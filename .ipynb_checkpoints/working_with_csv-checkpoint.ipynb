{
 "cells": [
  {
   "cell_type": "code",
   "execution_count": 1,
   "id": "7afe3f20-40b3-4826-9ecb-5ca76f681b50",
   "metadata": {},
   "outputs": [],
   "source": [
    "## working with csv files"
   ]
  },
  {
   "cell_type": "markdown",
   "id": "0a9fd6fd-eb5a-42a4-b27f-8c64a4c97961",
   "metadata": {},
   "source": [
    "## working with csv files\n"
   ]
  },
  {
   "cell_type": "code",
   "execution_count": null,
   "id": "26df8a4c-6f8c-42b5-bb35-2b582d00acc4",
   "metadata": {},
   "outputs": [],
   "source": []
  }
 ],
 "metadata": {
  "kernelspec": {
   "display_name": "Python 3 (ipykernel)",
   "language": "python",
   "name": "python3"
  },
  "language_info": {
   "codemirror_mode": {
    "name": "ipython",
    "version": 3
   },
   "file_extension": ".py",
   "mimetype": "text/x-python",
   "name": "python",
   "nbconvert_exporter": "python",
   "pygments_lexer": "ipython3",
   "version": "3.11.7"
  }
 },
 "nbformat": 4,
 "nbformat_minor": 5
}
